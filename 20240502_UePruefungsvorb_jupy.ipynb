{
 "cells": [
  {
   "cell_type": "markdown",
   "metadata": {},
   "source": [
    "# Uebung Pruefungsvorbereitung"
   ]
  },
  {
   "cell_type": "markdown",
   "metadata": {},
   "source": [
    "## Aufgabe 01\n"
   ]
  },
  {
   "cell_type": "markdown",
   "metadata": {},
   "source": [
    "In der objektorientierten Modellierung repräsentieren sowohl Aggregation als auch Komposition Beziehungen\n",
    "zwischen Klassen, die zeigen, wie Objekte einer Klasse durch Objekte einer anderen Klasse verwendet oder \n",
    "verwaltet werden. Der wesentliche Unterschied zwischen beiden liegt in der Lebensdauer der enthaltenen \n",
    "Objekte im Verhältnis zu ihrem Container-Objekt."
   ]
  },
  {
   "cell_type": "markdown",
   "metadata": {},
   "source": [
    "Aggregation\n",
    "\n",
    "Die Aggregation ist eine Beziehung zwischen zwei Klassen, die eine \"hat-ein\" Beziehung darstellt. Es handelt \n",
    "sich um eine schwächere Beziehung, bei der das enthaltene Objekt unabhängig von dem Objekt existieren kann, \n",
    "das es enthält. Das bedeutet, wenn das Container-Objekt zerstört wird, bleibt das enthaltene Objekt weiterhin bestehen.\n",
    "\n",
    "Beispiel:\n",
    "\n",
    "Eine Universität und ihre Abteilungen. Eine Universität besteht aus verschiedenen Abteilungen, \n",
    "aber die Zerstörung der Universitätsinstanz bedeutet nicht, dass die Abteilungen ebenfalls zerstört werden.\n"
   ]
  },
  {
   "cell_type": "code",
   "execution_count": 12,
   "metadata": {},
   "outputs": [],
   "source": [
    "class Department:\n",
    "    def __init__(self, name):\n",
    "        self.name = name\n",
    "\n",
    "class University:\n",
    "    def __init__(self, name):\n",
    "        self.name = name\n",
    "        self.departments = []\n",
    "\n",
    "    def add_department(self, department):\n",
    "        self.departments.append(department)\n",
    "\n",
    "# Aggregation: Die Universität \"hat\" Abteilungen, aber diese sind unabhängig von der Universität.\n",
    "uni = University(\"Technische Universität\")\n",
    "math_dept = Department(\"Mathematik\")\n",
    "uni.add_department(math_dept)"
   ]
  },
  {
   "cell_type": "markdown",
   "metadata": {},
   "source": [
    "Komposition\n",
    "\n",
    "Die Komposition ist eine stärkere Form der Aggregation, die eine \"Teil-Ganzes\" Beziehung darstellt. \n",
    "In dieser Beziehung wird das Leben des enthaltenen Objekts von dem Container-Objekt verwaltet. Wenn das \n",
    "Container-Objekt zerstört wird, werden auch alle darin enthaltenen Objekte zerstört.\n",
    "\n",
    "Beispiel:\n",
    "\n",
    "Ein Auto und seine Räder. Räder sind integraler Bestandteil eines Autos und existieren nicht unabhängig vom Auto. \n",
    "Wenn das Auto zerstört wird, werden auch die Räder als Teil davon zerstört."
   ]
  },
  {
   "cell_type": "code",
   "execution_count": 31,
   "metadata": {},
   "outputs": [
    {
     "name": "stdout",
     "output_type": "stream",
     "text": [
      "Das Auto wird zerstört, ebenso seine Räder.\n"
     ]
    }
   ],
   "source": [
    "class Wheel:\n",
    "    def __init__(self, number):\n",
    "        self.number = number\n",
    "\n",
    "class Car:\n",
    "    def __init__(self, make):\n",
    "        self.make = make\n",
    "        self.wheels = [Wheel(i) for i in range(4)]\n",
    "\n",
    "    def __del__(self):\n",
    "        print(\"Das Auto wird zerstört, ebenso seine Räder.\")\n",
    "\n",
    "# Komposition: Das Auto \"enthält\" Räder, die mit dem Auto zerstört werden.\n",
    "my_car = Car(\"Volkswagen\")\n",
    "\n",
    "del my_car  # Die Räder werden ebenfalls zerstört, wenn das Auto zerstört wird."
   ]
  },
  {
   "cell_type": "markdown",
   "metadata": {},
   "source": [
    "## Aufgabe 02"
   ]
  },
  {
   "cell_type": "markdown",
   "metadata": {},
   "source": [
    "In Python werden magische Methoden (auch \"dunder\" Methoden, von \"double underscore\") oft verwendet, \n",
    "um benutzerdefinierte Verhaltensweisen für Operationen wie Arithmetik, Item-Zugriff, Darstellung und andere \n",
    "typspezifische Aktionen anzupassen. Diese Methoden haben Namen, die mit doppelten Unterstrichen beginnen und \n",
    "enden, z.B. __init__, __str__, etc.\n",
    "\n",
    "Im Skript sind alles relevanten Methoden in Kapitel 2 zusammengefasst. Weiter ist Übung 02 auch zu diesem Thema sinvoll."
   ]
  },
  {
   "cell_type": "code",
   "execution_count": 32,
   "metadata": {},
   "outputs": [
    {
     "name": "stdout",
     "output_type": "stream",
     "text": [
      "5.0\n",
      "(5, 7)\n",
      "True\n",
      "(7, 9)\n",
      "(14, 18)\n",
      "(-1, -1)\n",
      "(4, 5)\n",
      "(4, 5)\n"
     ]
    }
   ],
   "source": [
    "class vector2:\n",
    "    def __init__(self,x,y):\n",
    "        self.x = x\n",
    "        self.y = y\n",
    "\n",
    "    def __str__(self):\n",
    "        return f\"({self.x}, {self.y})\"\n",
    "    \n",
    "    def len(self):\n",
    "        return (self.x**2 + self.y**2)**0.5\n",
    "    \n",
    "    def __abs__(self):\n",
    "        return vector2(abs(self.x), abs(self.y))\n",
    "    \n",
    "    def __add__(self,other):\n",
    "        if type(other) == int or type(other) == float:\n",
    "            return vector2(self.x + other, self.y + other)\n",
    "        else:\n",
    "            return vector2(self.x + other.x, self.y + other.y)\n",
    "    \n",
    "    def __radd__(self, other):\n",
    "        return vector2(self.x + other, self.y + other)\n",
    "\n",
    "    def __sub__(self,other):\n",
    "        return vector2(self.x - other.x, self.y - other.y)\n",
    "\n",
    "v1 = vector2(3,4)\n",
    "v2 = vector2(4,5)\n",
    "v3 = vector2(-5,-7)\n",
    "\n",
    "print(v1.len())\n",
    "print(abs(v3))\n",
    "print(type(abs(v3)) == vector2)\n",
    "\n",
    "v4 = v1 + v2\n",
    "print(v4)\n",
    "\n",
    "v5 = v1 + v2 + v4\n",
    "print(v5)\n",
    "\n",
    "print(v1-v2)\n",
    "\n",
    "v6 = v1 + 1\n",
    "print(v6)\n",
    "\n",
    "v7 = 1 + v1\n",
    "print(v7) "
   ]
  },
  {
   "cell_type": "markdown",
   "metadata": {},
   "source": [
    "## Aufgabe 03"
   ]
  },
  {
   "cell_type": "markdown",
   "metadata": {},
   "source": [
    "### Teilaufgabe a"
   ]
  },
  {
   "cell_type": "code",
   "execution_count": 34,
   "metadata": {},
   "outputs": [],
   "source": [
    "class Stadt: \n",
    "    def __init__(self,name,einwohner,land,koordinate): \n",
    "        self.name = name \n",
    "        self.einwohnerzahl = einwohner \n",
    "        self.land = land \n",
    "        self.koordinate = koordinate \n",
    "     \n",
    "    def __str__(self): \n",
    "        return f\"Stadt: {self.name}, Einwohnerzahl: {self.einwohnerzahl}, Land: {self.land}, Koordinate: {self.koordinate}\""
   ]
  },
  {
   "cell_type": "markdown",
   "metadata": {},
   "source": [
    "### Teilaufgabe b"
   ]
  },
  {
   "cell_type": "markdown",
   "metadata": {},
   "source": [
    "Erhöhte Modularität: \n",
    "\n",
    "Durch die Definition eigener Klassen für diese Attribute wird der Code modularer und wiederverwendbarer. Die Klasse Stadt würde sich dann primär auf die Eigenschaften und das Verhalten von Städten konzentrieren, während die Details der Koordinaten, Länder und Kontinente in ihren jeweiligen Klassen gekapselt sind.\n",
    "\n",
    "Detailliertere Datenkontrolle: \n",
    "\n",
    "$Eigene Klassen für diese Attribute ermöglichen eine spezifischere Validierung und Handhabung der zugehörigen Daten. Zum Beispiel könnte die Klasse für koordinate sicherstellen, dass nur gültige geographische Koordinaten gesetzt werden können. Die Klassen für land und kontinent könnten zusätzliche Attribute wie Bevölkerung, \n",
    "politische Struktur oder wirtschaftliche Daten aufnehmen.\n",
    "\n",
    "Erweiterbarkeit: \n",
    "\n",
    "Klassen für diese Attribute erlauben es, in Zukunft leichter zusätzliche Funktionen hinzuzufügen. Beispielsweise könnten Methoden zur Berechnung von Distanzen zwischen zwei Koordinaten in der Klasse für koordinate hinzugefügt werden, ohne die Klasse Stadt zu verändern."
   ]
  },
  {
   "cell_type": "markdown",
   "metadata": {},
   "source": [
    "## Aufgabe 04"
   ]
  },
  {
   "cell_type": "code",
   "execution_count": 36,
   "metadata": {},
   "outputs": [],
   "source": [
    "import sys \n",
    "from PyQt5.QtWidgets import * \n",
    " \n",
    "class MyWindow(QMainWindow): \n",
    "    def __init__(self): \n",
    "        super().__init__() \n",
    " \n",
    "        # Fenster-Titel definieren: \n",
    "        self.setWindowTitle(\"Fenster\") \n",
    " \n",
    "        # Layout erstellen: \n",
    "        layout_top = QVBoxLayout() \n",
    "        layout_bottom = QHBoxLayout() \n",
    " \n",
    "        # Widget-Instanzen erstellen: \n",
    "         \n",
    "        calendar = QCalendarWidget() \n",
    "        label = QLabel(\"Ist dieses Datum in Ordnung?\") \n",
    "        button = QPushButton(\"Ja\") \n",
    "        button1 = QPushButton(\"Nein\") \n",
    "        button2 = QPushButton(\"Abbrechen\") \n",
    " \n",
    "        # Widgets dem Layout hinzufügen: \n",
    "        layout_top.addWidget(calendar) \n",
    "        layout_top.addWidget(label) \n",
    "        layout_bottom.addWidget(button) \n",
    "        layout_bottom.addWidget(button1) \n",
    "        layout_bottom.addWidget(button2) \n",
    "\n",
    "        layout_top.addLayout(layout_bottom) \n",
    " \n",
    "        # Zentrales Widget erstellen und layout hinzufügen \n",
    "        center = QWidget()\n",
    "        center.setLayout(layout_top) \n",
    " \n",
    "        # Zentrales Widget in diesem Fenster setzen \n",
    "        self.setCentralWidget(center) \n",
    " \n",
    "        # Fenster anzeigen \n",
    "        self.show() \n",
    " \n",
    "def main(): \n",
    "    app = QApplication(sys.argv) \n",
    "    mainwindow = MyWindow()      \n",
    "    mainwindow.raise_()           \n",
    "    app.exec_()                  \n",
    " \n",
    "if __name__ == '__main__': \n",
    "    main()"
   ]
  },
  {
   "cell_type": "markdown",
   "metadata": {},
   "source": [
    "## Aufgabe 05\n"
   ]
  },
  {
   "cell_type": "markdown",
   "metadata": {},
   "source": [
    "### Teilaufgabe a\n"
   ]
  },
  {
   "cell_type": "code",
   "execution_count": 2,
   "metadata": {},
   "outputs": [],
   "source": [
    "'''\n",
    "+--------------------------------------------------------------------------+\n",
    "|   Dachform                                                               |\n",
    "+--------------------------------------------------------------------------+\n",
    "| -material: str                                                           |\n",
    "| -laenge: float                                                           |\n",
    "| -breite: float                                                           |\n",
    "+--------------------------------------------------------------------------+\n",
    "| +__init__(self, material, laenge, breite)                                |\n",
    "| +__str__(self)                                                           |\n",
    "| +berechne_fläche(self)                                                   |\n",
    "+--------------------------------------------------------------------------+\n",
    "         ^                                 ^                            ^   \n",
    "         | Vererbung von Dachfrom          |                            |   \n",
    "         |                                 |                            |   \n",
    "+-----------------------------------+      |                            |   \n",
    "|   Flachdach(Dachform)             |      |                            |   \n",
    "+-----------------------------------+      | Vererbung von Dachform     |   \n",
    "|                                   |      |                            |   \n",
    "+-----------------------------------+      |                            |   \n",
    "| +__str__(self)                    |      |                            | Vererbung von Dachform\n",
    "+-----------------------------------+      |                            |   \n",
    "                                           |                            |   \n",
    "                                           |                            |   \n",
    "                                           |                            |   \n",
    "+----------------------------------------------------------------+      |   \n",
    "|   Schrägdach(Dachform)                                         |      |   \n",
    "+----------------------------------------------------------------+      |   \n",
    "| -neigungswinkel: float                                         |      |   \n",
    "+----------------------------------------------------------------+      |   \n",
    "| +__init__(self, material, laenge, breite, neigungswinkel)      |      |   \n",
    "| +__str__(self)                                                 |      |   \n",
    "| +berechne_fläche(self)                                         |      |   \n",
    "+----------------------------------------------------------------+      |   \n",
    "                                                                        |   \n",
    "                                                                        |   \n",
    "                                                                        |   \n",
    "+--------------------------------------------------------------------------+\n",
    "|   Satteldach(Dachform)                                                   |\n",
    "+--------------------------------------------------------------------------+\n",
    "| -giebeltyp: str                                                          |\n",
    "+--------------------------------------------------------------------------+\n",
    "| +__init__(self, material, laenge, breite, giebeltyp)                     |\n",
    "| +__str__(self)                                                           |\n",
    "| +berechne_fläche(self)                                                   |\n",
    "+--------------------------------------------------------------------------+\n",
    "\n",
    "'''\n",
    "pass"
   ]
  },
  {
   "cell_type": "markdown",
   "metadata": {},
   "source": [
    "### Teilaufgabe b"
   ]
  },
  {
   "cell_type": "code",
   "execution_count": 40,
   "metadata": {},
   "outputs": [],
   "source": [
    "from math import cos, radians\n",
    "\n",
    "class Dachform:\n",
    "    def __init__(self, material, laenge, breite):\n",
    "        self.material = material\n",
    "        self.laenge = laenge\n",
    "        self.breite = breite\n",
    "\n",
    "    def __str__(self):\n",
    "        return f\"Dies ist ein Dach aus {self.material}, Länge {self.laenge}m, Breite {self.breite}m.\"\n",
    "\n",
    "    def berechne_fläche(self):\n",
    "        # Grundimplementierung für einfache Dachformen\n",
    "        return self.laenge * self.breite\n",
    "\n",
    "class Flachdach(Dachform):\n",
    "    def __str__(self):\n",
    "        return super().__str__() + \" Es ist ein Flachdach.\"\n",
    "\n",
    "class Schrägdach(Dachform):\n",
    "    def __init__(self, material, laenge, breite, neigungswinkel):\n",
    "        super().__init__(material, laenge, breite)\n",
    "        self.neigungswinkel = neigungswinkel\n",
    "\n",
    "    def __str__(self):\n",
    "        return super().__str__() + f\" Es ist ein Schrägdach mit einem Neigungswinkel von {self.neigungswinkel} Grad.\"\n",
    "\n",
    "    def berechne_fläche(self):\n",
    "        # Erhöhte Fläche aufgrund des Neigungswinkels\n",
    "        return self.laenge * self.breite / cos(radians(self.neigungswinkel))\n",
    "\n",
    "class Satteldach(Dachform):\n",
    "    def __init__(self, material, laenge, breite, giebeltyp):\n",
    "        super().__init__(material, laenge, breite)\n",
    "        self.giebeltyp = giebeltyp\n",
    "\n",
    "    def __str__(self):\n",
    "        return super().__str__() + f\" Es ist ein Satteldach mit {self.giebeltyp}-Giebel.\"\n",
    "\n",
    "    def berechne_fläche(self):\n",
    "        # Vereinfachte Berechnung: Fläche = Länge * Breite\n",
    "        return self.laenge * self.breite\n"
   ]
  },
  {
   "cell_type": "markdown",
   "metadata": {},
   "source": [
    "### Teilaufgabe c"
   ]
  },
  {
   "cell_type": "code",
   "execution_count": 41,
   "metadata": {},
   "outputs": [
    {
     "name": "stdout",
     "output_type": "stream",
     "text": [
      "Dies ist ein Dach aus Beton, Länge 10m, Breite 20m. Es ist ein Flachdach. , Fläche: 200\n",
      "Dies ist ein Dach aus Ziegel, Länge 10m, Breite 20m. Es ist ein Schrägdach mit einem Neigungswinkel von 30 Grad. , Fläche: 230.9401076758503\n",
      "Dies ist ein Dach aus Holz, Länge 10m, Breite 20m. Es ist ein Satteldach mit klassischem-Giebel. , Fläche: 200\n"
     ]
    }
   ],
   "source": [
    "flach = Flachdach(\"Beton\", 10, 20)\n",
    "schraeg = Schrägdach(\"Ziegel\", 10, 20, 30)\n",
    "sattel = Satteldach(\"Holz\", 10, 20, \"klassischem\")\n",
    "\n",
    "print(flach, \", Fläche:\", flach.berechne_fläche())\n",
    "print(schraeg, \", Fläche:\", schraeg.berechne_fläche())\n",
    "print(sattel, \", Fläche:\", sattel.berechne_fläche())"
   ]
  },
  {
   "cell_type": "markdown",
   "metadata": {},
   "source": [
    "## Aufgabe 06"
   ]
  },
  {
   "cell_type": "code",
   "execution_count": 43,
   "metadata": {},
   "outputs": [],
   "source": [
    "import sys \n",
    "from PyQt5.QtCore import * \n",
    "from PyQt5.QtWidgets import * \n",
    " \n",
    "\n",
    "class MyWindow(QMainWindow): \n",
    "    def __init__(self): \n",
    "        super().__init__() \n",
    " \n",
    "        self.createLayout() \n",
    "        self.createConnects() \n",
    " \n",
    "    def createLayout(self): \n",
    "        # Fenster-Titel definieren: \n",
    "        self.setWindowTitle(\"Währungsumrechner\") \n",
    " \n",
    "        # Layout erstellen: \n",
    "        layout = QFormLayout() \n",
    " \n",
    "        # Widget-Instanzen erstellen: \n",
    " \n",
    "        self.FrankenLineEdit = QLineEdit() \n",
    "        self.Eurolabel = QLabel() \n",
    "        self.button = QPushButton(\"Umrechnen\") \n",
    "     \n",
    " \n",
    "        # Layout füllen: \n",
    "        layout.addRow(\"Schweizer Franken\", self.FrankenLineEdit) \n",
    "        layout.addRow(\"Euro:\", self.Eurolabel) \n",
    "        layout.addRow(self.button) \n",
    " \n",
    "        # Zentrales Widget erstellen und layout hinzufügen \n",
    "        center = QWidget() \n",
    "        center.setLayout(layout) \n",
    " \n",
    "        # Zentrales Widget in diesem Fenster setzen \n",
    "        self.setCentralWidget(center) \n",
    " \n",
    "        # Fenster anzeigen \n",
    "        self.show() \n",
    " \n",
    "    #connects \n",
    "    def createConnects(self): \n",
    "        self.button.clicked.connect(self.umrechnung) \n",
    " \n",
    "    def umrechnung(self): \n",
    "        chf = float(self.FrankenLineEdit.text()) \n",
    "        euro = chf * 1.0268    # Wechselkurs vom 03.05.2024\n",
    "        euro_rounded = round(euro, 2)  \n",
    "        self.Eurolabel.setText(f\"{euro_rounded}\") \n",
    " \n",
    "    \n",
    " \n",
    "def main(): \n",
    "    app = QApplication(sys.argv)  # Qt Applikation erstellen \n",
    "    mainwindow = MyWindow()       # Instanz Fenster erstellen \n",
    "    mainwindow.raise_()           # Fenster nach vorne bringen \n",
    "    app.exec_()                   # Applikations-Loop starten \n",
    " \n",
    "if __name__ == '__main__': \n",
    "    main() "
   ]
  }
 ],
 "metadata": {
  "kernelspec": {
   "display_name": "base",
   "language": "python",
   "name": "python3"
  },
  "language_info": {
   "codemirror_mode": {
    "name": "ipython",
    "version": 3
   },
   "file_extension": ".py",
   "mimetype": "text/x-python",
   "name": "python",
   "nbconvert_exporter": "python",
   "pygments_lexer": "ipython3",
   "version": "3.11.5"
  }
 },
 "nbformat": 4,
 "nbformat_minor": 2
}
