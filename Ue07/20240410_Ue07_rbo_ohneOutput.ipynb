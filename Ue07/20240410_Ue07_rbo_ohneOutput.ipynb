{
 "cells": [
  {
   "cell_type": "markdown",
   "metadata": {},
   "source": [
    "# Übung 07: Numpy & Matplotlib"
   ]
  },
  {
   "cell_type": "markdown",
   "metadata": {},
   "source": [
    "## Aufgabe 01\n",
    "Plotten Sie 1000 Zufallszahlen im Bereich von [-100, -100] bis [100,100] mit\n",
    "verschiedenen Farben. Verwenden Sie dazu matplotlib."
   ]
  },
  {
   "cell_type": "code",
   "execution_count": null,
   "metadata": {},
   "outputs": [],
   "source": [
    "import matplotlib.pyplot as plt\n",
    "import numpy as np"
   ]
  },
  {
   "cell_type": "code",
   "execution_count": null,
   "metadata": {},
   "outputs": [],
   "source": [
    "x = np.random.uniform(-100, 100, 1000)\n",
    "y = np.random.uniform(-100, 100, 1000)\n",
    "\n",
    "farben = np.random.rand(1000, 3)\n",
    "\n",
    "plt.figure(figsize=(8, 8))\n",
    "\n",
    "for i in range(len(x)):\n",
    "    plt.plot(x[i], y[i], 'x', color=farben[i])\n",
    "\n",
    "plt.title(\"Aufgabe 01: 1000 zufällig (Farbe & Koord.) Punkte\")\n",
    "plt.xlabel(\"x-Wert\")\n",
    "plt.ylabel(\"y-Wert\")\n",
    "\n",
    "plt.grid()\n",
    "plt.show()"
   ]
  },
  {
   "cell_type": "markdown",
   "metadata": {},
   "source": [
    "## Aufgabe 02\n"
   ]
  },
  {
   "cell_type": "code",
   "execution_count": null,
   "metadata": {},
   "outputs": [],
   "source": [
    "import numpy as np\n",
    "import matplotlib.pyplot as plt"
   ]
  },
  {
   "cell_type": "code",
   "execution_count": null,
   "metadata": {},
   "outputs": [],
   "source": [
    "def f(x, y):\n",
    "    return np.exp(-x**2) * np.sin(y)\n",
    "\n",
    "x = np.linspace(-5, 5, 1000)\n",
    "y = np.linspace(-5, 5, 1000)\n",
    "\n",
    "X, Y = np.meshgrid(x, y)\n",
    "\n",
    "Z = f(X, Y)\n",
    "\n",
    "plt.figure(figsize=(8, 8))\n",
    "plt.pcolormesh(X, Y, Z)\n",
    "\n",
    "plt.title(\"Aufgabe 02: Auswertung der Funktion f(x,y)\")\n",
    "plt.xlabel(\"x-Wert\")\n",
    "plt.ylabel(\"y-Wert\")\n",
    "\n",
    "plt.axis('equal')\n",
    "plt.grid()\n",
    "plt.show()\n"
   ]
  }
 ],
 "metadata": {
  "kernelspec": {
   "display_name": "2060GP1_py311",
   "language": "python",
   "name": "python3"
  },
  "language_info": {
   "codemirror_mode": {
    "name": "ipython",
    "version": 3
   },
   "file_extension": ".py",
   "mimetype": "text/x-python",
   "name": "python",
   "nbconvert_exporter": "python",
   "pygments_lexer": "ipython3",
   "version": "3.11.9"
  }
 },
 "nbformat": 4,
 "nbformat_minor": 2
}
